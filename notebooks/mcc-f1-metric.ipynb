{
 "cells": [
  {
   "cell_type": "code",
   "execution_count": 1,
   "metadata": {},
   "outputs": [],
   "source": [
    "import numpy as np"
   ]
  },
  {
   "cell_type": "code",
   "execution_count": 2,
   "metadata": {},
   "outputs": [],
   "source": [
    "from sklearn.metrics import precision_recall_curve\n",
    "from sklearn.metrics import matthews_corrcoef"
   ]
  },
  {
   "cell_type": "code",
   "execution_count": 3,
   "metadata": {},
   "outputs": [],
   "source": [
    "positive_class = 1\n",
    "negative_class = 0\n",
    "num_of_positive_class = 1000\n",
    "num_of_negative_class = 10000\n",
    "proportion_of_predicted_for_pos_type_1 = 0.3\n",
    "proportion_of_predicted_for_pos_type_2 = 1 - proportion_of_predicted_for_pos_type_1\n",
    "shape1_pos_type_1 = 12\n",
    "shape2_pos_type_1 = 2\n",
    "shape1_pos_type_2 = 3\n",
    "shape2_pos_type_2 = 4\n",
    "shape1_neg = 2 \n",
    "shape2_neg = 3"
   ]
  },
  {
   "cell_type": "code",
   "execution_count": 4,
   "metadata": {},
   "outputs": [],
   "source": [
    "actual = np.concatenate([\n",
    "    np.repeat(positive_class, num_of_positive_class),\n",
    "    np.repeat(negative_class, num_of_negative_class)\n",
    "])"
   ]
  },
  {
   "cell_type": "code",
   "execution_count": 5,
   "metadata": {},
   "outputs": [],
   "source": [
    "predicted = np.concatenate([\n",
    "    np.random.beta(\n",
    "        a=shape1_pos_type_1,\n",
    "        b=shape2_pos_type_1,\n",
    "        size=int(np.floor(proportion_of_predicted_for_pos_type_1 * num_of_positive_class))\n",
    "    ),\n",
    "    np.random.beta(\n",
    "        a=shape1_pos_type_2,\n",
    "        b=shape2_pos_type_2,\n",
    "        size=int(np.floor(proportion_of_predicted_for_pos_type_2 * num_of_positive_class))\n",
    "    ),\n",
    "    np.random.beta(\n",
    "        a=shape1_neg,\n",
    "        b=shape2_neg,\n",
    "        size=num_of_negative_class\n",
    "    )\n",
    "])"
   ]
  },
  {
   "cell_type": "code",
   "execution_count": 6,
   "metadata": {},
   "outputs": [],
   "source": [
    "# from sklearn.ensemble import RandomForestClassifier\n",
    "# from sklearn.datasets import make_classification\n",
    "\n",
    "# X, actual = make_classification(n_samples=1000, n_features=4,\n",
    "#                            n_informative=2, n_redundant=0,\n",
    "#                            random_state=0, shuffle=False)\n",
    "# clf = RandomForestClassifier(max_depth=2, random_state=0)\n",
    "# clf.fit(X, y)\n",
    "\n",
    "# # get probabilistic predictions\n",
    "# predicted = clf.predict_proba(X)[0:,0]"
   ]
  },
  {
   "cell_type": "code",
   "execution_count": 7,
   "metadata": {},
   "outputs": [],
   "source": [
    "# len(actual), len(predicted)"
   ]
  },
  {
   "cell_type": "code",
   "execution_count": 8,
   "metadata": {},
   "outputs": [],
   "source": [
    "# # get precision recall values across automated range of thresholds\n",
    "# precision, recall, thresholds = precision_recall_curve(actual, predicted)"
   ]
  },
  {
   "cell_type": "code",
   "execution_count": 106,
   "metadata": {},
   "outputs": [
    {
     "name": "stderr",
     "output_type": "stream",
     "text": [
      "/Users/joe.gallagher/anaconda3/envs/env-test/lib/python3.7/site-packages/sklearn/metrics/classification.py:872: RuntimeWarning: invalid value encountered in double_scalars\n",
      "  mcc = cov_ytyp / np.sqrt(cov_ytyt * cov_ypyp)\n",
      "/Users/joe.gallagher/.local/lib/python3.7/site-packages/ipykernel_launcher.py:49: RuntimeWarning: invalid value encountered in true_divide\n"
     ]
    }
   ],
   "source": [
    "# define n thresholds\n",
    "n_bins = 100\n",
    "thresholds = np.linspace(0.001, 0.999, num=n_bins, endpoint=True)\n",
    "\n",
    "# global lists\n",
    "mcc = list()\n",
    "precision = list()\n",
    "recall = list()\n",
    "\n",
    "# define range of thresholds\n",
    "\n",
    "# for range of thresholds...\n",
    "for i, tau in enumerate(thresholds):\n",
    "    # binarise probabilistic predictions\n",
    "    y_preds_clf_i = np.where(predicted > thresholds[i], 1, 0)\n",
    "    true_pos = len(y_preds_clf_i[(y_preds_clf_i == 1) & (actual == 1)])\n",
    "    false_pos = len(y_preds_clf_i[(y_preds_clf_i == 1) & (actual == 0)])\n",
    "    false_neg = len(y_preds_clf_i[(y_preds_clf_i == 0) & (actual == 1)])\n",
    "    \n",
    "    # matthews correlation coefficients\n",
    "    mcc_i = matthews_corrcoef(actual, y_preds_clf_i)\n",
    "\n",
    "    # precision\n",
    "    if false_pos > 0:\n",
    "        precision_i = true_pos / (true_pos + false_pos)\n",
    "    else:\n",
    "        precision_i = 0\n",
    "        \n",
    "    # recall\n",
    "    if false_pos > 0:\n",
    "        recall_i = true_pos / (true_pos + false_neg)\n",
    "    else:\n",
    "        recall_i = 0\n",
    "    \n",
    "    # append to global lists\n",
    "    mcc.append(mcc_i)\n",
    "    precision.append(precision_i)\n",
    "    recall.append(recall_i)\n",
    "\n",
    "# lists to array\n",
    "mcc = np.array(mcc)\n",
    "precision = np.array(precision)\n",
    "recall = np.array(recall)\n",
    "\n",
    "# normalise MCC from [-1, 1] to [0, 1]\n",
    "mcc = (mcc + 1) / 2\n",
    "\n",
    "# get F1 scores\n",
    "f1_scores = 2 * (precision * recall) / (precision + recall)"
   ]
  },
  {
   "cell_type": "code",
   "execution_count": 134,
   "metadata": {},
   "outputs": [],
   "source": [
    "# idx(MCC) -> NaN where idx(f1) == NaN\n",
    "f1_nan_idx = np.where(np.isnan(f1_scores))[0]\n",
    "mcc[f1_nan_idx] = np.nan"
   ]
  },
  {
   "cell_type": "code",
   "execution_count": 136,
   "metadata": {},
   "outputs": [
    {
     "data": {
      "text/plain": [
       "(-0.05, 1.05)"
      ]
     },
     "execution_count": 136,
     "metadata": {},
     "output_type": "execute_result"
    },
    {
     "data": {
      "image/png": "[encoded data removed]",
      "text/plain": [
       "<Figure size 432x288 with 1 Axes>"
      ]
     },
     "metadata": {
      "needs_background": "light"
     },
     "output_type": "display_data"
    }
   ],
   "source": [
    "import matplotlib.pyplot as plt\n",
    "\n",
    "# plot mcc-f1\n",
    "fig, ax = plt.subplots()\n",
    "ax.plot(f1_scores, mcc, c='r')\n",
    "ax.plot(0, 0, 'o', c='k')\n",
    "ax.plot(1, 1, 'o', c='k')\n",
    "plt.hlines(0.5, 0, 1, ls='--', alpha=0.5)\n",
    "ax.set_xlim([-0.05,1.05])\n",
    "ax.set_ylim([-0.05,1.05])"
   ]
  },
  {
   "cell_type": "code",
   "execution_count": 149,
   "metadata": {},
   "outputs": [],
   "source": [
    "# get the index of the point with largest normalized MCC (\"point\" refers to the point on the MCC-F1 curve)\n",
    "index_of_max_mcc = np.nanargmax(mcc)\n",
    "\n",
    "# define points on the MCC-F1 curve located on the left of the point with the highest normalized MCC as \"left curve\"\n",
    "mcc_left = mcc[0:index_of_max_mcc]\n",
    "f_left = f1_scores[0:index_of_max_mcc]\n",
    "\n",
    "mcc_right = mcc[(index_of_max_mcc):len(mcc)]\n",
    "f_right = f1_scores[(index_of_max_mcc):len(f1_scores)]\n",
    "\n",
    "# divide the range of normalized MCC into subranges\n",
    "unit_len = (max(mcc) - min(mcc)) / n_bins"
   ]
  },
  {
   "cell_type": "code",
   "execution_count": 174,
   "metadata": {},
   "outputs": [
    {
     "name": "stderr",
     "output_type": "stream",
     "text": [
      "/Users/joe.gallagher/.local/lib/python3.7/site-packages/ipykernel_launcher.py:13: RuntimeWarning: invalid value encountered in double_scalars\n",
      "  del sys.path[0]\n"
     ]
    }
   ],
   "source": [
    "# calculate the sum of mean distances from the left curve to the point (1, 1)\n",
    "mean_distances_left = []\n",
    "for i in range(n_bins):\n",
    "    # find all the points on the left curve with normalized MCC between unit_len*(i-1) and unit_len*i\n",
    "    idx = (mcc_left >= min(mcc) + (i-1) * unit_len) & (mcc_left <= min(mcc) + i * unit_len)\n",
    "            \n",
    "    sum_of_distance_within_subrange = 0\n",
    "    for pos, mask in enumerate(idx):\n",
    "        d = np.sqrt((mcc_left[pos] - 1)**2 + (f_left[pos] - 1)**2) * mask\n",
    "        d = np.where(np.isnan(d), 0, d)\n",
    "        sum_of_distance_within_subrange = sum_of_distance_within_subrange + d\n",
    "        \n",
    "    mean_distances_left.append(sum_of_distance_within_subrange / np.sum(idx))"
   ]
  },
  {
   "cell_type": "code",
   "execution_count": 187,
   "metadata": {},
   "outputs": [
    {
     "name": "stderr",
     "output_type": "stream",
     "text": [
      "/Users/joe.gallagher/.local/lib/python3.7/site-packages/ipykernel_launcher.py:5: RuntimeWarning: invalid value encountered in greater_equal\n",
      "  \"\"\"\n",
      "/Users/joe.gallagher/.local/lib/python3.7/site-packages/ipykernel_launcher.py:5: RuntimeWarning: invalid value encountered in less_equal\n",
      "  \"\"\"\n",
      "/Users/joe.gallagher/.local/lib/python3.7/site-packages/ipykernel_launcher.py:13: RuntimeWarning: invalid value encountered in double_scalars\n",
      "  del sys.path[0]\n"
     ]
    }
   ],
   "source": [
    "# calculate the sum of mean distances from the right curve to the point (1, 1)\n",
    "mean_distances_right = []\n",
    "for i in range(n_bins):\n",
    "    # find all the points on the right curve with normalized MCC between unit_len*(i-1) and unit_len*i\n",
    "    idx = (mcc_right >= min(mcc) + (i-1) * unit_len) & (mcc_right <= min(mcc) + i * unit_len)\n",
    "            \n",
    "    sum_of_distance_within_subrange = 0\n",
    "    for pos, mask in enumerate(idx):\n",
    "        d = np.sqrt((mcc_right[pos] - 1)**2 + (f_right[pos] - 1)**2) * mask\n",
    "        d = np.where(np.isnan(d), 0, d)\n",
    "        sum_of_distance_within_subrange = sum_of_distance_within_subrange + d\n",
    "        \n",
    "    mean_distances_right.append(sum_of_distance_within_subrange / np.sum(idx))"
   ]
  },
  {
   "cell_type": "code",
   "execution_count": 177,
   "metadata": {},
   "outputs": [],
   "source": [
    "# get rid of NAs and sum the mean distances\n",
    "num_of_na_left = sum(np.isnan(mean_distances_left))\n",
    "sum_of_mean_distances_left_no_na = np.nansum(mean_distances_left)\n",
    "\n",
    "# get rid of NAs and sum the mean distances\n",
    "num_of_na_right = sum(np.isnan(mean_distances_right))\n",
    "sum_of_mean_distances_right_no_na = np.nansum(mean_distances_right)"
   ]
  },
  {
   "cell_type": "code",
   "execution_count": 183,
   "metadata": {},
   "outputs": [],
   "source": [
    "# calculate the MCC-F1 metric\n",
    "mccf1_metric = 1 - ((sum_of_mean_distances_left_no_na + sum_of_mean_distances_right_no_na) / (n_bins*2 - num_of_na_left - num_of_na_right)) / np.sqrt(2)"
   ]
  },
  {
   "cell_type": "code",
   "execution_count": 184,
   "metadata": {},
   "outputs": [
    {
     "data": {
      "text/plain": [
       "0.37044051928120025"
      ]
     },
     "execution_count": 184,
     "metadata": {},
     "output_type": "execute_result"
    }
   ],
   "source": [
    "mccf1_metric"
   ]
  },
  {
   "cell_type": "code",
   "execution_count": 208,
   "metadata": {},
   "outputs": [],
   "source": [
    "# find the best threshold\n",
    "eu_distance = []\n",
    "for i in range(len(mcc)):\n",
    "    eu_distance.append(np.sqrt((1 - mcc[i])**2 + (1 - f1_scores[i])**2))\n",
    "    \n",
    "best_threshold_idx = np.nanargmin(eu_distance)\n",
    "\n",
    "best_threshold = thresholds[best_threshold_idx]"
   ]
  },
  {
   "cell_type": "code",
   "execution_count": 209,
   "metadata": {},
   "outputs": [
    {
     "data": {
      "text/plain": [
       "0.7772222222222223"
      ]
     },
     "execution_count": 209,
     "metadata": {},
     "output_type": "execute_result"
    }
   ],
   "source": [
    "best_threshold"
   ]
  },
  {
   "cell_type": "markdown",
   "metadata": {},
   "source": [
    "## Define funs"
   ]
  },
  {
   "cell_type": "code",
   "execution_count": 269,
   "metadata": {},
   "outputs": [],
   "source": [
    "import numpy as np\n",
    "from sklearn.metrics import matthews_corrcoef\n",
    "import matplotlib.pyplot as plt\n",
    "\n",
    "\n",
    "def __mcc_fun(true_pos, false_pos, true_neg, false_neg):\n",
    "    mcc = ((true_pos * true_neg) - (false_pos * false_neg)) / np.sqrt(\n",
    "        (true_pos + false_pos) * (true_pos + false_neg) * (true_neg + false_pos) * (true_neg + false_neg)\n",
    "    )\n",
    "    if np.isnan(mcc):\n",
    "        mcc = 0\n",
    "    \n",
    "    return mcc\n",
    "\n",
    "def __precision_fun(true_pos, false_pos):\n",
    "    # precision\n",
    "    if false_pos > 0:\n",
    "        precision = true_pos / (true_pos + false_pos)\n",
    "    else:\n",
    "        precision = 0\n",
    "        \n",
    "    return precision\n",
    "        \n",
    "def __recall_fun(true_pos, false_neg):\n",
    "    if false_pos > 0:\n",
    "        recall = true_pos / (true_pos + false_neg)\n",
    "    else:\n",
    "        recall = 0\n",
    "        \n",
    "    return recall\n",
    "\n",
    "\n",
    "def get_mccf1_metrics(actual, predicted, n_bins=100):\n",
    "    # define n thresholds\n",
    "    n_bins = 100\n",
    "    thresholds = np.linspace(0.001, 0.999, num=n_bins, endpoint=True)\n",
    "\n",
    "    # global lists\n",
    "    mcc = list()\n",
    "    precision = list()\n",
    "    recall = list()\n",
    "\n",
    "    # define range of thresholds\n",
    "\n",
    "    # for range of thresholds...\n",
    "    for i, tau in enumerate(thresholds):\n",
    "        # binarise probabilistic predictions\n",
    "        y_preds_clf_i = np.where(predicted > thresholds[i], 1, 0)\n",
    "        true_pos = len(y_preds_clf_i[(y_preds_clf_i == 1) & (actual == 1)])\n",
    "        false_pos = len(y_preds_clf_i[(y_preds_clf_i == 1) & (actual == 0)])\n",
    "        true_neg = len(y_preds_clf_i[(y_preds_clf_i == 0) & (actual == 0)])\n",
    "        false_neg = len(y_preds_clf_i[(y_preds_clf_i == 0) & (actual == 1)])\n",
    "\n",
    "        # matthews correlation coefficients\n",
    "        mcc_i = __mcc_fun(true_pos=true_pos, false_pos=false_pos, true_neg=true_neg, false_neg=false_neg)\n",
    "\n",
    "        # precision\n",
    "        precision_i = __precision_fun(true_pos=true_pos, false_pos=false_pos)\n",
    "\n",
    "        # recall\n",
    "        recall_i = __recall_fun(true_pos=true_pos, false_neg=false_neg)\n",
    "\n",
    "        # append to global lists\n",
    "        mcc.append(mcc_i)\n",
    "        precision.append(precision_i)\n",
    "        recall.append(recall_i)\n",
    "\n",
    "    # lists to array\n",
    "    mcc = np.array(mcc)\n",
    "    precision = np.array(precision)\n",
    "    recall = np.array(recall)\n",
    "\n",
    "    # normalise MCC from [-1, 1] to [0, 1]\n",
    "    mcc = (mcc + 1) / 2\n",
    "\n",
    "    # get F1 scores\n",
    "    f1_scores = 2 * (precision * recall) / (precision + recall)\n",
    "    \n",
    "    # idx(MCC) -> NaN where idx(f1) == NaN\n",
    "    f1_nan_idx = np.where(np.isnan(f1_scores))[0]\n",
    "    mcc[f1_nan_idx] = np.nan\n",
    "\n",
    "    return precision, recall, mcc, f1_scores\n",
    "\n",
    "\n",
    "def plot_mccf1(actual, predicted, n_bins=100):\n",
    "    # get metrics\n",
    "    precision, recall, mcc, f1_scores = get_mccf1_metrics(actual, predicted, n_bins=n_bins)\n",
    "\n",
    "    # plot\n",
    "    fig, ax = plt.subplots()\n",
    "    ax.plot(f1_scores, mcc, c='r')\n",
    "    ax.plot(0, 0, 'o', c='k')\n",
    "    ax.plot(1, 1, 'o', c='k')\n",
    "    plt.hlines(0.5, 0, 1, ls='--', alpha=0.5)\n",
    "    ax.set_xlim([-0.05,1.05])\n",
    "    ax.set_ylim([-0.05,1.05])\n",
    "    \n",
    "    \n",
    "def calc_mccf1(actual, predicted, n_bins=100):\n",
    "    # get metrics\n",
    "    precision, recall, mcc, f1_scores = get_mccf1_metrics(actual, predicted, n_bins=n_bins)\n",
    "    \n",
    "    # get the index of the point with largest normalized MCC (\"point\" refers to the point on the MCC-F1 curve)\n",
    "    index_of_max_mcc = np.nanargmax(mcc)\n",
    "\n",
    "    # define points on the MCC-F1 curve located on the left of the point with the highest normalized MCC as \"left curve\"\n",
    "    mcc_left = mcc[0:index_of_max_mcc]\n",
    "    f_left = f1_scores[0:index_of_max_mcc]\n",
    "\n",
    "    mcc_right = mcc[(index_of_max_mcc):len(mcc)]\n",
    "    f_right = f1_scores[(index_of_max_mcc):len(f1_scores)]\n",
    "\n",
    "    # divide the range of normalized MCC into subranges\n",
    "    unit_len = (max(mcc) - min(mcc)) / n_bins\n",
    "    \n",
    "    # calculate the sum of mean distances from the left curve to the point (1, 1)\n",
    "    mean_distances_left = []\n",
    "    for i in range(n_bins):\n",
    "        # find all the points on the left curve with normalized MCC between unit_len*(i-1) and unit_len*i\n",
    "        idx = (mcc_left >= min(mcc) + (i-1) * unit_len) & (mcc_left <= min(mcc) + i * unit_len)\n",
    "\n",
    "        sum_of_distance_within_subrange = 0\n",
    "        for pos, mask in enumerate(idx):\n",
    "            d = np.sqrt((mcc_left[pos] - 1)**2 + (f_left[pos] - 1)**2) * mask\n",
    "            d = np.where(np.isnan(d), 0, d)\n",
    "            sum_of_distance_within_subrange = sum_of_distance_within_subrange + d\n",
    "\n",
    "        mean_distances_left.append(sum_of_distance_within_subrange / np.sum(idx))\n",
    "        \n",
    "    # calculate the sum of mean distances from the right curve to the point (1, 1)\n",
    "    mean_distances_right = []\n",
    "    for i in range(n_bins):\n",
    "        # find all the points on the right curve with normalized MCC between unit_len*(i-1) and unit_len*i\n",
    "        idx = (mcc_right >= min(mcc) + (i-1) * unit_len) & (mcc_right <= min(mcc) + i * unit_len)\n",
    "\n",
    "        sum_of_distance_within_subrange = 0\n",
    "        for pos, mask in enumerate(idx):\n",
    "            d = np.sqrt((mcc_right[pos] - 1)**2 + (f_right[pos] - 1)**2) * mask\n",
    "            d = np.where(np.isnan(d), 0, d)\n",
    "            sum_of_distance_within_subrange = sum_of_distance_within_subrange + d\n",
    "\n",
    "        mean_distances_right.append(sum_of_distance_within_subrange / np.sum(idx))\n",
    "        \n",
    "    # get rid of NAs and sum the mean distances\n",
    "    num_of_na_left = sum(np.isnan(mean_distances_left))\n",
    "    sum_of_mean_distances_left_no_na = np.nansum(mean_distances_left)\n",
    "\n",
    "    # get rid of NAs and sum the mean distances\n",
    "    num_of_na_right = sum(np.isnan(mean_distances_right))\n",
    "    sum_of_mean_distances_right_no_na = np.nansum(mean_distances_right)\n",
    "\n",
    "    # calculate the MCC-F1 metric\n",
    "    mccf1_metric = 1 - ((sum_of_mean_distances_left_no_na + sum_of_mean_distances_right_no_na) / (n_bins*2 - num_of_na_left - num_of_na_right)) / np.sqrt(2)\n",
    "    \n",
    "    # find the best threshold\n",
    "    eu_distance = []\n",
    "    for i in range(len(mcc)):\n",
    "        eu_distance.append(np.sqrt((1 - mcc[i])**2 + (1 - f1_scores[i])**2))\n",
    "\n",
    "    best_threshold_idx = np.nanargmin(eu_distance)\n",
    "    best_threshold = thresholds[best_threshold_idx]\n",
    "    \n",
    "    return mccf1_metric, best_threshold"
   ]
  },
  {
   "cell_type": "code",
   "execution_count": 270,
   "metadata": {},
   "outputs": [
    {
     "name": "stderr",
     "output_type": "stream",
     "text": [
      "/Users/joe.gallagher/.local/lib/python3.7/site-packages/ipykernel_launcher.py:8: RuntimeWarning: invalid value encountered in double_scalars\n",
      "  \n",
      "/Users/joe.gallagher/.local/lib/python3.7/site-packages/ipykernel_launcher.py:77: RuntimeWarning: invalid value encountered in true_divide\n"
     ]
    },
    {
     "data": {
      "image/png": "[encoded data removed]",
      "text/plain": [
       "<Figure size 432x288 with 1 Axes>"
      ]
     },
     "metadata": {
      "needs_background": "light"
     },
     "output_type": "display_data"
    }
   ],
   "source": [
    "plot_mccf1(actual, predicted, 100)"
   ]
  },
  {
   "cell_type": "code",
   "execution_count": 271,
   "metadata": {},
   "outputs": [
    {
     "name": "stderr",
     "output_type": "stream",
     "text": [
      "/Users/joe.gallagher/.local/lib/python3.7/site-packages/ipykernel_launcher.py:8: RuntimeWarning: invalid value encountered in double_scalars\n",
      "  \n",
      "/Users/joe.gallagher/.local/lib/python3.7/site-packages/ipykernel_launcher.py:77: RuntimeWarning: invalid value encountered in true_divide\n",
      "/Users/joe.gallagher/.local/lib/python3.7/site-packages/ipykernel_launcher.py:129: RuntimeWarning: invalid value encountered in double_scalars\n",
      "/Users/joe.gallagher/.local/lib/python3.7/site-packages/ipykernel_launcher.py:135: RuntimeWarning: invalid value encountered in greater_equal\n",
      "/Users/joe.gallagher/.local/lib/python3.7/site-packages/ipykernel_launcher.py:135: RuntimeWarning: invalid value encountered in less_equal\n",
      "/Users/joe.gallagher/.local/lib/python3.7/site-packages/ipykernel_launcher.py:143: RuntimeWarning: invalid value encountered in double_scalars\n"
     ]
    },
    {
     "data": {
      "text/plain": [
       "(0.36462169175394854, 0.7772222222222223)"
      ]
     },
     "execution_count": 271,
     "metadata": {},
     "output_type": "execute_result"
    }
   ],
   "source": [
    "calc_mccf1(actual, predicted, 100)"
   ]
  },
  {
   "cell_type": "code",
   "execution_count": null,
   "metadata": {},
   "outputs": [],
   "source": []
  }
 ],
 "metadata": {
  "kernelspec": {
   "display_name": "Python (test-env)",
   "language": "python",
   "name": "test-env"
  },
  "language_info": {
   "codemirror_mode": {
    "name": "ipython",
    "version": 3
   },
   "file_extension": ".py",
   "mimetype": "text/x-python",
   "name": "python",
   "nbconvert_exporter": "python",
   "pygments_lexer": "ipython3",
   "version": "3.7.4"
  }
 },
 "nbformat": 4,
 "nbformat_minor": 4
}
