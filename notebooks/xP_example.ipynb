{
 "cells": [
  {
   "cell_type": "code",
   "execution_count": 1,
   "metadata": {},
   "outputs": [],
   "source": [
    "import pandas as pd"
   ]
  },
  {
   "cell_type": "code",
   "execution_count": 2,
   "metadata": {},
   "outputs": [],
   "source": [
    "from mcc_f1 import *"
   ]
  },
  {
   "cell_type": "markdown",
   "metadata": {},
   "source": [
    "## Method 1: Read featurised pass data from EPL 2020/21 season"
   ]
  },
  {
   "cell_type": "code",
   "execution_count": 9,
   "metadata": {},
   "outputs": [],
   "source": [
    "from sklearn.model_selection import train_test_split\n",
    "from xgboost import XGBRegressor"
   ]
  },
  {
   "cell_type": "code",
   "execution_count": 10,
   "metadata": {},
   "outputs": [],
   "source": [
    "# read featurised pass data (generated using ai-soccer-pass-completion-model/src/models/inference_xpass.py)\n",
    "feature_df = pd.read_csv('/Users/joe.gallagher/ai-soccer-pass-completion-model/data/featurised/featurised_39_2020.csv')"
   ]
  },
  {
   "cell_type": "code",
   "execution_count": 11,
   "metadata": {},
   "outputs": [
    {
     "data": {
      "text/plain": [
       "(387689, 81)"
      ]
     },
     "execution_count": 11,
     "metadata": {},
     "output_type": "execute_result"
    }
   ],
   "source": [
    "feature_df.shape"
   ]
  },
  {
   "cell_type": "code",
   "execution_count": 12,
   "metadata": {},
   "outputs": [],
   "source": [
    "# feature_df.columns"
   ]
  },
  {
   "cell_type": "code",
   "execution_count": 13,
   "metadata": {},
   "outputs": [],
   "source": [
    "input_features_1 = [\n",
    "    'x_normalized_to_inversion',\n",
    "    'y_abs',\n",
    "    'hd_pass',\n",
    "    'corner',\n",
    "    'throw',\n",
    "    'gk',\n",
    "    'kick_off',\n",
    "    'lofted',\n",
    "]\n",
    "\n",
    "input_features_2 = [\n",
    "    'x_normalized_to_inversion',\n",
    "    'y_abs',\n",
    "    'angle_normalized_to_inversion',\n",
    "    'long',\n",
    "    'mid',\n",
    "    'hd_pass',\n",
    "    'corner',\n",
    "    'throw',\n",
    "    'gk',\n",
    "    'kick_off',\n",
    "    'lofted',\n",
    "]\n",
    "\n",
    "input_features_3 = [\n",
    "    'x_normalized_to_inversion',\n",
    "    'y_abs',\n",
    "    'endx',\n",
    "    'endy',\n",
    "    'hd_pass',\n",
    "    'corner',\n",
    "    'throw',\n",
    "    'gk',\n",
    "    'kick_off',\n",
    "    'lofted',\n",
    "]\n",
    "\n",
    "target_feature_column = ['outcome']"
   ]
  },
  {
   "cell_type": "code",
   "execution_count": null,
   "metadata": {},
   "outputs": [],
   "source": [
    "# 1. Simple model\n",
    "\n",
    "# training, validation sets\n",
    "train_1, test_1 = train_test_split(feature_df, train_size=0.7, random_state=19)\n",
    "X_train_1 = train_1[input_features_1]\n",
    "y_train_1 = train_1[target_feature_column]\n",
    "X_test_1 = test_1[input_features_1]\n",
    "y_test_1 = test_1[target_feature_column]\n",
    "eval_set_1 = [(X_train_1, y_train_1), (X_test_1, y_test_1)]\n",
    "\n",
    "# fit model\n",
    "model_obj_1 = XGBRegressor(\n",
    "    objective='binary:logistic',\n",
    "    random_state=19,\n",
    "    verbosity=0,\n",
    "    n_jobs=-1)\n",
    "\n",
    "xgb_1 = model_obj_1.fit(\n",
    "    X_train_1, y_train_1,\n",
    "    eval_metric=[\"error\", \"logloss\", \"auc\"],\n",
    "    eval_set=eval_set_1,\n",
    "    verbose=False)"
   ]
  },
  {
   "cell_type": "code",
   "execution_count": null,
   "metadata": {},
   "outputs": [],
   "source": [
    "# 2. More complex model\n",
    "\n",
    "# training, validation sets\n",
    "train_2, test_2 = train_test_split(feature_df, train_size=0.7, random_state=19)\n",
    "X_train_2 = train_2[input_features_2]\n",
    "y_train_2 = train_2[target_feature_column]\n",
    "X_test_2 = test_2[input_features_2]\n",
    "y_test_2 = test_2[target_feature_column]\n",
    "eval_set_2 = [(X_train_2, y_train_2), (X_test_2, y_test_2)]\n",
    "\n",
    "# fit model\n",
    "model_obj_2 = XGBRegressor(\n",
    "    objective='binary:logistic',\n",
    "    random_state=19,\n",
    "    verbosity=0,\n",
    "    n_jobs=-1)\n",
    "\n",
    "xgb_2 = model_obj_2.fit(\n",
    "    X_train_2, y_train_2,\n",
    "    eval_metric=[\"error\", \"logloss\", \"auc\"],\n",
    "    eval_set=eval_set_2,\n",
    "    verbose=False)"
   ]
  },
  {
   "cell_type": "code",
   "execution_count": null,
   "metadata": {},
   "outputs": [],
   "source": [
    "# 3. More complex model including data leakage\n",
    "\n",
    "# training, validation sets\n",
    "train_3, test_3 = train_test_split(feature_df, train_size=0.7, random_state=19)\n",
    "X_train_3 = train_3[input_features_3]\n",
    "y_train_3 = train_3[target_feature_column]\n",
    "X_test_3 = test_3[input_features_3]\n",
    "y_test_3 = test_3[target_feature_column]\n",
    "eval_set_3 = [(X_train_3, y_train_3), (X_test_3, y_test_3)]\n",
    "\n",
    "# fit model\n",
    "model_obj_3 = XGBRegressor(\n",
    "    objective='binary:logistic',\n",
    "    random_state=19,\n",
    "    verbosity=0,\n",
    "    n_jobs=-1)\n",
    "\n",
    "xgb_3 = model_obj_3.fit(\n",
    "    X_train_3, y_train_3,\n",
    "    eval_metric=[\"error\", \"logloss\", \"auc\"],\n",
    "    eval_set=eval_set_3,\n",
    "    verbose=False)"
   ]
  },
  {
   "cell_type": "code",
   "execution_count": null,
   "metadata": {},
   "outputs": [],
   "source": [
    "predicted_1 = xgb_1.predict(X_test_1)\n",
    "predicted_2 = xgb_2.predict(X_test_2)\n",
    "predicted_3 = xgb_3.predict(X_test_3)\n",
    "\n",
    "actual_1 = np.array(y_test_1)[:,0]\n",
    "actual_2 = np.array(y_test_2)[:,0]\n",
    "actual_3 = np.array(y_test_3)[:,0]"
   ]
  },
  {
   "cell_type": "code",
   "execution_count": null,
   "metadata": {},
   "outputs": [],
   "source": [
    "pd.Series(actual_1).hist(alpha=0.5)\n",
    "pd.Series(predicted_1).hist(alpha=0.5)\n",
    "pd.Series(predicted_2).hist(alpha=0.5)\n",
    "pd.Series(predicted_3).hist(alpha=0.5)"
   ]
  },
  {
   "cell_type": "code",
   "execution_count": null,
   "metadata": {},
   "outputs": [],
   "source": [
    "plot_mccf1(actual_1, predicted_1, n_bins=100)"
   ]
  },
  {
   "cell_type": "code",
   "execution_count": null,
   "metadata": {},
   "outputs": [],
   "source": [
    "mcc_f1_score_1, best_threshold_1 = calc_mccf1(actual_1, predicted_1, 100)"
   ]
  },
  {
   "cell_type": "code",
   "execution_count": null,
   "metadata": {},
   "outputs": [],
   "source": [
    "print(f'MCC-F1 score = {mcc_f1_score_1:.3f}')\n",
    "print(f'Best threshold = {best_threshold_1:.3f}')"
   ]
  },
  {
   "cell_type": "code",
   "execution_count": null,
   "metadata": {},
   "outputs": [],
   "source": [
    "plot_mccf1(actual_2, predicted_2, n_bins=100)"
   ]
  },
  {
   "cell_type": "code",
   "execution_count": null,
   "metadata": {},
   "outputs": [],
   "source": [
    "mcc_f1_score_2, best_threshold_2 = calc_mccf1(actual_2, predicted_2, 100)"
   ]
  },
  {
   "cell_type": "code",
   "execution_count": null,
   "metadata": {},
   "outputs": [],
   "source": [
    "print(f'MCC-F1 score = {mcc_f1_score_2:.3f}')\n",
    "print(f'Best threshold = {best_threshold_2:.3f}')"
   ]
  },
  {
   "cell_type": "code",
   "execution_count": null,
   "metadata": {},
   "outputs": [],
   "source": [
    "plot_mccf1(actual_3, predicted_3, n_bins=100)"
   ]
  },
  {
   "cell_type": "code",
   "execution_count": null,
   "metadata": {},
   "outputs": [],
   "source": [
    "mcc_f1_score_3, best_threshold_3 = calc_mccf1(actual_3, predicted_3, 100)"
   ]
  },
  {
   "cell_type": "code",
   "execution_count": null,
   "metadata": {},
   "outputs": [],
   "source": [
    "print(f'MCC-F1 score = {mcc_f1_score_3:.3f}')\n",
    "print(f'Best threshold = {best_threshold_3:.3f}')"
   ]
  },
  {
   "cell_type": "markdown",
   "metadata": {},
   "source": [
    "## Method 2: Read pre-generated predictions from full xP model"
   ]
  },
  {
   "cell_type": "code",
   "execution_count": 3,
   "metadata": {},
   "outputs": [],
   "source": [
    "xp_df = pd.read_csv(\"runtime/xp_39_2020.csv\")"
   ]
  },
  {
   "cell_type": "code",
   "execution_count": 4,
   "metadata": {},
   "outputs": [],
   "source": [
    "actual = np.array(xp_df.outcome)\n",
    "predicted = np.array(xp_df.xP)"
   ]
  },
  {
   "cell_type": "code",
   "execution_count": 5,
   "metadata": {},
   "outputs": [
    {
     "data": {
      "text/plain": [
       "<matplotlib.axes._subplots.AxesSubplot at 0x117d8ea50>"
      ]
     },
     "execution_count": 5,
     "metadata": {},
     "output_type": "execute_result"
    },
    {
     "data": {
      "image/png": "[encoded data removed]",
      "text/plain": [
       "<Figure size 432x288 with 1 Axes>"
      ]
     },
     "metadata": {
      "needs_background": "light"
     },
     "output_type": "display_data"
    }
   ],
   "source": [
    "pd.Series(actual).hist(alpha=0.5)\n",
    "pd.Series(predicted).hist(alpha=0.5)"
   ]
  },
  {
   "cell_type": "code",
   "execution_count": 6,
   "metadata": {},
   "outputs": [
    {
     "name": "stderr",
     "output_type": "stream",
     "text": [
      "/Users/joe.gallagher/Dropbox/mcc-f1-metric/mcc_f1.py:76: RuntimeWarning: invalid value encountered in true_divide\n",
      "  f1_scores = 2 * (precision * recall) / (precision + recall)\n",
      "/Users/joe.gallagher/Dropbox/mcc-f1-metric/mcc_f1.py:134: RuntimeWarning: invalid value encountered in double_scalars\n",
      "  mean_distances_left.append(sum_of_distance_within_subrange / np.sum(idx))\n",
      "/Users/joe.gallagher/Dropbox/mcc-f1-metric/mcc_f1.py:140: RuntimeWarning: invalid value encountered in greater_equal\n",
      "  idx = (mcc_right >= min(mcc) + (i - 1) * unit_len) & (mcc_right <= min(mcc) + i * unit_len)\n",
      "/Users/joe.gallagher/Dropbox/mcc-f1-metric/mcc_f1.py:140: RuntimeWarning: invalid value encountered in less_equal\n",
      "  idx = (mcc_right >= min(mcc) + (i - 1) * unit_len) & (mcc_right <= min(mcc) + i * unit_len)\n",
      "/Users/joe.gallagher/Dropbox/mcc-f1-metric/mcc_f1.py:148: RuntimeWarning: invalid value encountered in double_scalars\n",
      "  mean_distances_right.append(sum_of_distance_within_subrange / np.sum(idx))\n"
     ]
    },
    {
     "data": {
      "image/png": "[encoded data removed]",
      "text/plain": [
       "<Figure size 432x288 with 1 Axes>"
      ]
     },
     "metadata": {
      "needs_background": "light"
     },
     "output_type": "display_data"
    }
   ],
   "source": [
    "plot_mccf1(actual, predicted, n_bins=100)"
   ]
  },
  {
   "cell_type": "code",
   "execution_count": 7,
   "metadata": {},
   "outputs": [],
   "source": [
    "mcc_f1_score, best_threshold = calc_mccf1(actual, predicted, 100)"
   ]
  },
  {
   "cell_type": "code",
   "execution_count": 8,
   "metadata": {},
   "outputs": [
    {
     "name": "stdout",
     "output_type": "stream",
     "text": [
      "MCC-F1 score = 0.757\n",
      "Best threshold = 0.616\n"
     ]
    }
   ],
   "source": [
    "print(f'MCC-F1 score = {mcc_f1_score:.3f}')\n",
    "print(f'Best threshold = {best_threshold:.3f}')"
   ]
  },
  {
   "cell_type": "code",
   "execution_count": null,
   "outputs": [],
   "source": [],
   "metadata": {
    "collapsed": false,
    "pycharm": {
     "name": "#%%\n"
    }
   }
  },
  {
   "cell_type": "code",
   "execution_count": null,
   "metadata": {},
   "outputs": [],
   "source": []
  }
 ],
 "metadata": {
  "kernelspec": {
   "display_name": "Python (test-env)",
   "language": "python",
   "name": "test-env"
  },
  "language_info": {
   "codemirror_mode": {
    "name": "ipython",
    "version": 3
   },
   "file_extension": ".py",
   "mimetype": "text/x-python",
   "name": "python",
   "nbconvert_exporter": "python",
   "pygments_lexer": "ipython3",
   "version": "3.7.4"
  }
 },
 "nbformat": 4,
 "nbformat_minor": 4
}